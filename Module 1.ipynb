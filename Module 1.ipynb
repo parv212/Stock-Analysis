{
 "cells": [
  {
   "cell_type": "markdown",
   "metadata": {},
   "source": [
    "### Importing Libraries"
   ]
  },
  {
   "cell_type": "code",
   "execution_count": 1,
   "metadata": {},
   "outputs": [],
   "source": [
    "import pandas as pd\n",
    "import numpy as np"
   ]
  },
  {
   "cell_type": "markdown",
   "metadata": {},
   "source": [
    "#### 1.1"
   ]
  },
  {
   "cell_type": "code",
   "execution_count": 2,
   "metadata": {},
   "outputs": [
    {
     "output_type": "stream",
     "name": "stdout",
     "text": "Date Close Price Open Price High Price Low Price  \\\n0  Oct 24, 2019    1,780.78   1,770.78   1,787.97  1,760.78   \n1  Oct 23, 2019    1,762.17   1,761.30   1,770.05  1,742.00   \n2  Oct 22, 2019    1,765.73   1,788.15   1,789.78  1,762.00   \n3  Oct 21, 2019    1,785.66   1,769.66   1,785.88  1,765.00   \n4  Oct 18, 2019    1,757.51   1,787.80   1,793.98  1,749.20   \n\n  Total Traded Quantity  \n0                 5.20M  \n1                 2.19M  \n2                 2.23M  \n3                 2.22M  \n4                 3.37M  \n             Date Close Price Open Price High Price Low Price  \\\n498  Oct 31, 2017    1,105.28   1,109.00   1,110.54  1,101.12   \n499  Oct 30, 2017    1,110.85   1,095.01   1,122.79  1,093.56   \n500  Oct 27, 2017    1,100.95   1,058.14   1,105.58  1,050.55   \n501  Oct 26, 2017      972.43     980.33     982.90    968.55   \n502  Oct 25, 2017      972.91     978.00     984.44    966.24   \n\n    Total Traded Quantity  \n498                 3.48M  \n499                 6.61M  \n500                16.57M  \n501                 5.62M  \n502                 3.03M  \n                Date Close Price Open Price High Price Low Price  \\\ncount            503         503        503        503       503   \nunique           503         496        487        496       498   \ntop     Feb 05, 2018    1,642.81   1,949.00   1,131.75  1,818.00   \nfreq               1           2          3          2         2   \n\n       Total Traded Quantity  \ncount                    503  \nunique                   343  \ntop                    4.86M  \nfreq                       5  \nDate                     object\nClose Price              object\nOpen Price               object\nHigh Price               object\nLow Price                object\nTotal Traded Quantity    object\ndtype: object\n"
    }
   ],
   "source": [
    "amazon = pd.read_csv('AMZN.csv')\n",
    "print(amazon.head())\n",
    "print(amazon.tail())\n",
    "print(amazon.describe())\n",
    "print(amazon.dtypes)"
   ]
  },
  {
   "cell_type": "markdown",
   "metadata": {},
   "source": [
    "#### 1.2"
   ]
  },
  {
   "cell_type": "code",
   "execution_count": 3,
   "metadata": {},
   "outputs": [
    {
     "output_type": "stream",
     "name": "stdout",
     "text": "Minimum price for last 90 days = 1705.51\nMaximum price for last 90 days = 2020.99\nMean price for last 90 days = 1837.38\n"
    }
   ],
   "source": [
    "amazon['Close Price'] = amazon['Close Price'].str.replace(\",\", \"\").astype(float)\n",
    "amazon['Total Traded Quantity'] = amazon['Total Traded Quantity'].str.replace(\"M\", \"\").astype(float)\n",
    "amazon['Total Traded Quantity'] = amazon['Total Traded Quantity']*1000000\n",
    "stock = np.array(amazon)\n",
    "print(\"Minimum price for last 90 days = {}\".format(stock[:90, 1].min()))\n",
    "print(\"Maximum price for last 90 days = {}\".format(stock[:90, 1].max()))\n",
    "print(\"Mean price for last 90 days = {:.2f}\".format(stock[:90, 1].mean()))"
   ]
  },
  {
   "cell_type": "markdown",
   "metadata": {},
   "source": [
    "#### 1.3"
   ]
  },
  {
   "cell_type": "code",
   "execution_count": 4,
   "metadata": {},
   "outputs": [
    {
     "output_type": "stream",
     "name": "stdout",
     "text": "<class 'pandas.core.frame.DataFrame'>\nRangeIndex: 503 entries, 0 to 502\nData columns (total 6 columns):\n #   Column                 Non-Null Count  Dtype         \n---  ------                 --------------  -----         \n 0   Date                   503 non-null    datetime64[ns]\n 1   Close Price            503 non-null    float64       \n 2   Open Price             503 non-null    object        \n 3   High Price             503 non-null    object        \n 4   Low Price              503 non-null    object        \n 5   Total Traded Quantity  503 non-null    float64       \ndtypes: datetime64[ns](1), float64(2), object(3)\nmemory usage: 23.7+ KB\n729 days 00:00:00\n"
    }
   ],
   "source": [
    "amazon['Date'] = pd.to_datetime(amazon['Date'])\n",
    "amazon.info()\n",
    "print(amazon['Date'][0] - amazon['Date'][502])"
   ]
  },
  {
   "cell_type": "markdown",
   "metadata": {},
   "source": [
    "#### 1.4"
   ]
  },
  {
   "cell_type": "code",
   "execution_count": 5,
   "metadata": {
    "scrolled": true
   },
   "outputs": [
    {
     "output_type": "execute_result",
     "data": {
      "text/plain": "                     Date  Close Price Open Price High Price Low Price  \\\nYear Month                                                               \n2019 10    0   2019-10-24      1780.78   1,770.78   1,787.97  1,760.78   \n           1   2019-10-23      1762.17   1,761.30   1,770.05  1,742.00   \n           2   2019-10-22      1765.73   1,788.15   1,789.78  1,762.00   \n           3   2019-10-21      1785.66   1,769.66   1,785.88  1,765.00   \n           4   2019-10-18      1757.51   1,787.80   1,793.98  1,749.20   \n...                   ...          ...        ...        ...       ...   \n2017 10    498 2017-10-31      1105.28   1,109.00   1,110.54  1,101.12   \n           499 2017-10-30      1110.85   1,095.01   1,122.79  1,093.56   \n           500 2017-10-27      1100.95   1,058.14   1,105.58  1,050.55   \n           501 2017-10-26       972.43     980.33     982.90    968.55   \n           502 2017-10-25       972.91     978.00     984.44    966.24   \n\n                Total Traded Quantity  Month  Year         vwap  \nYear Month                                                       \n2019 10    0                5200000.0     10  2019  1780.780000  \n           1                2190000.0     10  2019  1775.264993  \n           2                2230000.0     10  2019  1773.054699  \n           3                2220000.0     10  2019  1775.418193  \n           4                3370000.0     10  2019  1771.450368  \n...                               ...    ...   ...          ...  \n2017 10    498              3480000.0     10  2017  1105.280000  \n           499              6610000.0     10  2017  1108.928930  \n           500             16570000.0     10  2017  1103.969782  \n           501              5620000.0     10  2017  1081.068494  \n           502              3030000.0     10  2017  1071.787264  \n\n[503 rows x 9 columns]",
      "text/html": "<div>\n<style scoped>\n    .dataframe tbody tr th:only-of-type {\n        vertical-align: middle;\n    }\n\n    .dataframe tbody tr th {\n        vertical-align: top;\n    }\n\n    .dataframe thead th {\n        text-align: right;\n    }\n</style>\n<table border=\"1\" class=\"dataframe\">\n  <thead>\n    <tr style=\"text-align: right;\">\n      <th></th>\n      <th></th>\n      <th></th>\n      <th>Date</th>\n      <th>Close Price</th>\n      <th>Open Price</th>\n      <th>High Price</th>\n      <th>Low Price</th>\n      <th>Total Traded Quantity</th>\n      <th>Month</th>\n      <th>Year</th>\n      <th>vwap</th>\n    </tr>\n    <tr>\n      <th>Year</th>\n      <th>Month</th>\n      <th></th>\n      <th></th>\n      <th></th>\n      <th></th>\n      <th></th>\n      <th></th>\n      <th></th>\n      <th></th>\n      <th></th>\n      <th></th>\n    </tr>\n  </thead>\n  <tbody>\n    <tr>\n      <th rowspan=\"5\" valign=\"top\">2019</th>\n      <th rowspan=\"5\" valign=\"top\">10</th>\n      <th>0</th>\n      <td>2019-10-24</td>\n      <td>1780.78</td>\n      <td>1,770.78</td>\n      <td>1,787.97</td>\n      <td>1,760.78</td>\n      <td>5200000.0</td>\n      <td>10</td>\n      <td>2019</td>\n      <td>1780.780000</td>\n    </tr>\n    <tr>\n      <th>1</th>\n      <td>2019-10-23</td>\n      <td>1762.17</td>\n      <td>1,761.30</td>\n      <td>1,770.05</td>\n      <td>1,742.00</td>\n      <td>2190000.0</td>\n      <td>10</td>\n      <td>2019</td>\n      <td>1775.264993</td>\n    </tr>\n    <tr>\n      <th>2</th>\n      <td>2019-10-22</td>\n      <td>1765.73</td>\n      <td>1,788.15</td>\n      <td>1,789.78</td>\n      <td>1,762.00</td>\n      <td>2230000.0</td>\n      <td>10</td>\n      <td>2019</td>\n      <td>1773.054699</td>\n    </tr>\n    <tr>\n      <th>3</th>\n      <td>2019-10-21</td>\n      <td>1785.66</td>\n      <td>1,769.66</td>\n      <td>1,785.88</td>\n      <td>1,765.00</td>\n      <td>2220000.0</td>\n      <td>10</td>\n      <td>2019</td>\n      <td>1775.418193</td>\n    </tr>\n    <tr>\n      <th>4</th>\n      <td>2019-10-18</td>\n      <td>1757.51</td>\n      <td>1,787.80</td>\n      <td>1,793.98</td>\n      <td>1,749.20</td>\n      <td>3370000.0</td>\n      <td>10</td>\n      <td>2019</td>\n      <td>1771.450368</td>\n    </tr>\n    <tr>\n      <th>...</th>\n      <th>...</th>\n      <th>...</th>\n      <td>...</td>\n      <td>...</td>\n      <td>...</td>\n      <td>...</td>\n      <td>...</td>\n      <td>...</td>\n      <td>...</td>\n      <td>...</td>\n      <td>...</td>\n    </tr>\n    <tr>\n      <th rowspan=\"5\" valign=\"top\">2017</th>\n      <th rowspan=\"5\" valign=\"top\">10</th>\n      <th>498</th>\n      <td>2017-10-31</td>\n      <td>1105.28</td>\n      <td>1,109.00</td>\n      <td>1,110.54</td>\n      <td>1,101.12</td>\n      <td>3480000.0</td>\n      <td>10</td>\n      <td>2017</td>\n      <td>1105.280000</td>\n    </tr>\n    <tr>\n      <th>499</th>\n      <td>2017-10-30</td>\n      <td>1110.85</td>\n      <td>1,095.01</td>\n      <td>1,122.79</td>\n      <td>1,093.56</td>\n      <td>6610000.0</td>\n      <td>10</td>\n      <td>2017</td>\n      <td>1108.928930</td>\n    </tr>\n    <tr>\n      <th>500</th>\n      <td>2017-10-27</td>\n      <td>1100.95</td>\n      <td>1,058.14</td>\n      <td>1,105.58</td>\n      <td>1,050.55</td>\n      <td>16570000.0</td>\n      <td>10</td>\n      <td>2017</td>\n      <td>1103.969782</td>\n    </tr>\n    <tr>\n      <th>501</th>\n      <td>2017-10-26</td>\n      <td>972.43</td>\n      <td>980.33</td>\n      <td>982.90</td>\n      <td>968.55</td>\n      <td>5620000.0</td>\n      <td>10</td>\n      <td>2017</td>\n      <td>1081.068494</td>\n    </tr>\n    <tr>\n      <th>502</th>\n      <td>2017-10-25</td>\n      <td>972.91</td>\n      <td>978.00</td>\n      <td>984.44</td>\n      <td>966.24</td>\n      <td>3030000.0</td>\n      <td>10</td>\n      <td>2017</td>\n      <td>1071.787264</td>\n    </tr>\n  </tbody>\n</table>\n<p>503 rows × 9 columns</p>\n</div>"
     },
     "metadata": {},
     "execution_count": 5
    }
   ],
   "source": [
    "def VWAP(df):\n",
    "    q = df['Total Traded Quantity'].values\n",
    "    p = df['Close Price'].values\n",
    "    return df.assign(vwap = (p*q).cumsum()/q.cumsum())\n",
    "amazon[\"Month\"] = amazon['Date'].dt.month\n",
    "amazon['Year'] = amazon['Date'].dt.year\n",
    "amazon = amazon.groupby(['Year', 'Month']).apply(VWAP)\n",
    "amazon = amazon.sort_values(by=['Date'], ascending=False)\n",
    "amazon"
   ]
  },
  {
   "cell_type": "markdown",
   "metadata": {},
   "source": [
    "#### 1.5"
   ]
  },
  {
   "cell_type": "code",
   "execution_count": 6,
   "metadata": {},
   "outputs": [
    {
     "output_type": "stream",
     "name": "stdout",
     "text": "Average of 1 week = 1773.82\nAverage of 2 week = 1752.35\nAverage of 1 month = 1761.50\nAverage of 3 month = 1838.08\nAverage of 6 month = 1811.39\nAverage of 1 year = 1772.91\nProfit/Loss in 1 week = -0.19\nProfit/Loss in 2 week = -2.70\nProfit/Loss in 1 month = 3.29\nProfit/Loss in 3 month = 6.77\nProfit/Loss in 6 month = -7.89\nProfit/Loss in 1 year = -11.49\n"
    }
   ],
   "source": [
    "# days = int(input(\"Enter no. of days: \"))\n",
    "def calc_average_price(days):\n",
    "    return stock[:days, 1].mean()\n",
    "def profit_loss(days):\n",
    "    return ((stock[days-1, 1] - stock[0, 1])/stock[0, 1])*100\n",
    "print(\"Average of 1 week = {:.2f}\".format(calc_average_price(7)))\n",
    "print(\"Average of 2 week = {:.2f}\".format(calc_average_price(14)))\n",
    "print(\"Average of 1 month = {:.2f}\".format(calc_average_price(30)))\n",
    "print(\"Average of 3 month = {:.2f}\".format(calc_average_price(91)))\n",
    "print(\"Average of 6 month = {:.2f}\".format(calc_average_price(182)))\n",
    "print(\"Average of 1 year = {:.2f}\".format(calc_average_price(365)))\n",
    "print(\"Profit/Loss in 1 week = {:.2f}\".format(profit_loss(7)))\n",
    "print(\"Profit/Loss in 2 week = {:.2f}\".format(profit_loss(14)))\n",
    "print(\"Profit/Loss in 1 month = {:.2f}\".format(profit_loss(30)))\n",
    "print(\"Profit/Loss in 3 month = {:.2f}\".format(profit_loss(91)))\n",
    "print(\"Profit/Loss in 6 month = {:.2f}\".format(profit_loss(182)))\n",
    "print(\"Profit/Loss in 1 year = {:.2f}\".format(profit_loss(365)))"
   ]
  },
  {
   "cell_type": "markdown",
   "metadata": {},
   "source": [
    "#### 1.6"
   ]
  },
  {
   "cell_type": "code",
   "execution_count": 7,
   "metadata": {},
   "outputs": [
    {
     "output_type": "execute_result",
     "data": {
      "text/plain": "                     Date  Close Price Open Price High Price Low Price  \\\nYear Month                                                               \n2019 10    0   2019-10-24      1780.78   1,770.78   1,787.97  1,760.78   \n           1   2019-10-23      1762.17   1,761.30   1,770.05  1,742.00   \n           2   2019-10-22      1765.73   1,788.15   1,789.78  1,762.00   \n           3   2019-10-21      1785.66   1,769.66   1,785.88  1,765.00   \n           4   2019-10-18      1757.51   1,787.80   1,793.98  1,749.20   \n...                   ...          ...        ...        ...       ...   \n2017 10    498 2017-10-31      1105.28   1,109.00   1,110.54  1,101.12   \n           499 2017-10-30      1110.85   1,095.01   1,122.79  1,093.56   \n           500 2017-10-27      1100.95   1,058.14   1,105.58  1,050.55   \n           501 2017-10-26       972.43     980.33     982.90    968.55   \n           502 2017-10-25       972.91     978.00     984.44    966.24   \n\n                Total Traded Quantity  Month  Year         vwap  \\\nYear Month                                                        \n2019 10    0                5200000.0     10  2019  1780.780000   \n           1                2190000.0     10  2019  1775.264993   \n           2                2230000.0     10  2019  1773.054699   \n           3                2220000.0     10  2019  1775.418193   \n           4                3370000.0     10  2019  1771.450368   \n...                               ...    ...   ...          ...   \n2017 10    498              3480000.0     10  2017  1105.280000   \n           499              6610000.0     10  2017  1108.928930   \n           500             16570000.0     10  2017  1103.969782   \n           501              5620000.0     10  2017  1081.068494   \n           502              3030000.0     10  2017  1071.787264   \n\n                Day_Perc_Change  \nYear Month                       \n2019 10    0           0.000000  \n           1          -1.045048  \n           2           0.202024  \n           3           1.128712  \n           4          -1.576448  \n...                         ...  \n2017 10    498         0.144970  \n           499         0.503945  \n           500        -0.891209  \n           501       -11.673555  \n           502         0.049361  \n\n[503 rows x 10 columns]",
      "text/html": "<div>\n<style scoped>\n    .dataframe tbody tr th:only-of-type {\n        vertical-align: middle;\n    }\n\n    .dataframe tbody tr th {\n        vertical-align: top;\n    }\n\n    .dataframe thead th {\n        text-align: right;\n    }\n</style>\n<table border=\"1\" class=\"dataframe\">\n  <thead>\n    <tr style=\"text-align: right;\">\n      <th></th>\n      <th></th>\n      <th></th>\n      <th>Date</th>\n      <th>Close Price</th>\n      <th>Open Price</th>\n      <th>High Price</th>\n      <th>Low Price</th>\n      <th>Total Traded Quantity</th>\n      <th>Month</th>\n      <th>Year</th>\n      <th>vwap</th>\n      <th>Day_Perc_Change</th>\n    </tr>\n    <tr>\n      <th>Year</th>\n      <th>Month</th>\n      <th></th>\n      <th></th>\n      <th></th>\n      <th></th>\n      <th></th>\n      <th></th>\n      <th></th>\n      <th></th>\n      <th></th>\n      <th></th>\n      <th></th>\n    </tr>\n  </thead>\n  <tbody>\n    <tr>\n      <th rowspan=\"5\" valign=\"top\">2019</th>\n      <th rowspan=\"5\" valign=\"top\">10</th>\n      <th>0</th>\n      <td>2019-10-24</td>\n      <td>1780.78</td>\n      <td>1,770.78</td>\n      <td>1,787.97</td>\n      <td>1,760.78</td>\n      <td>5200000.0</td>\n      <td>10</td>\n      <td>2019</td>\n      <td>1780.780000</td>\n      <td>0.000000</td>\n    </tr>\n    <tr>\n      <th>1</th>\n      <td>2019-10-23</td>\n      <td>1762.17</td>\n      <td>1,761.30</td>\n      <td>1,770.05</td>\n      <td>1,742.00</td>\n      <td>2190000.0</td>\n      <td>10</td>\n      <td>2019</td>\n      <td>1775.264993</td>\n      <td>-1.045048</td>\n    </tr>\n    <tr>\n      <th>2</th>\n      <td>2019-10-22</td>\n      <td>1765.73</td>\n      <td>1,788.15</td>\n      <td>1,789.78</td>\n      <td>1,762.00</td>\n      <td>2230000.0</td>\n      <td>10</td>\n      <td>2019</td>\n      <td>1773.054699</td>\n      <td>0.202024</td>\n    </tr>\n    <tr>\n      <th>3</th>\n      <td>2019-10-21</td>\n      <td>1785.66</td>\n      <td>1,769.66</td>\n      <td>1,785.88</td>\n      <td>1,765.00</td>\n      <td>2220000.0</td>\n      <td>10</td>\n      <td>2019</td>\n      <td>1775.418193</td>\n      <td>1.128712</td>\n    </tr>\n    <tr>\n      <th>4</th>\n      <td>2019-10-18</td>\n      <td>1757.51</td>\n      <td>1,787.80</td>\n      <td>1,793.98</td>\n      <td>1,749.20</td>\n      <td>3370000.0</td>\n      <td>10</td>\n      <td>2019</td>\n      <td>1771.450368</td>\n      <td>-1.576448</td>\n    </tr>\n    <tr>\n      <th>...</th>\n      <th>...</th>\n      <th>...</th>\n      <td>...</td>\n      <td>...</td>\n      <td>...</td>\n      <td>...</td>\n      <td>...</td>\n      <td>...</td>\n      <td>...</td>\n      <td>...</td>\n      <td>...</td>\n      <td>...</td>\n    </tr>\n    <tr>\n      <th rowspan=\"5\" valign=\"top\">2017</th>\n      <th rowspan=\"5\" valign=\"top\">10</th>\n      <th>498</th>\n      <td>2017-10-31</td>\n      <td>1105.28</td>\n      <td>1,109.00</td>\n      <td>1,110.54</td>\n      <td>1,101.12</td>\n      <td>3480000.0</td>\n      <td>10</td>\n      <td>2017</td>\n      <td>1105.280000</td>\n      <td>0.144970</td>\n    </tr>\n    <tr>\n      <th>499</th>\n      <td>2017-10-30</td>\n      <td>1110.85</td>\n      <td>1,095.01</td>\n      <td>1,122.79</td>\n      <td>1,093.56</td>\n      <td>6610000.0</td>\n      <td>10</td>\n      <td>2017</td>\n      <td>1108.928930</td>\n      <td>0.503945</td>\n    </tr>\n    <tr>\n      <th>500</th>\n      <td>2017-10-27</td>\n      <td>1100.95</td>\n      <td>1,058.14</td>\n      <td>1,105.58</td>\n      <td>1,050.55</td>\n      <td>16570000.0</td>\n      <td>10</td>\n      <td>2017</td>\n      <td>1103.969782</td>\n      <td>-0.891209</td>\n    </tr>\n    <tr>\n      <th>501</th>\n      <td>2017-10-26</td>\n      <td>972.43</td>\n      <td>980.33</td>\n      <td>982.90</td>\n      <td>968.55</td>\n      <td>5620000.0</td>\n      <td>10</td>\n      <td>2017</td>\n      <td>1081.068494</td>\n      <td>-11.673555</td>\n    </tr>\n    <tr>\n      <th>502</th>\n      <td>2017-10-25</td>\n      <td>972.91</td>\n      <td>978.00</td>\n      <td>984.44</td>\n      <td>966.24</td>\n      <td>3030000.0</td>\n      <td>10</td>\n      <td>2017</td>\n      <td>1071.787264</td>\n      <td>0.049361</td>\n    </tr>\n  </tbody>\n</table>\n<p>503 rows × 10 columns</p>\n</div>"
     },
     "metadata": {},
     "execution_count": 7
    }
   ],
   "source": [
    "amazon['Day_Perc_Change'] = amazon['Close Price'].pct_change()*100\n",
    "amazon['Day_Perc_Change'] = amazon['Day_Perc_Change'].fillna(0)\n",
    "amazon"
   ]
  },
  {
   "cell_type": "markdown",
   "metadata": {},
   "source": [
    "#### 1.7"
   ]
  },
  {
   "cell_type": "code",
   "execution_count": 8,
   "metadata": {},
   "outputs": [
    {
     "output_type": "execute_result",
     "data": {
      "text/plain": "                     Date  Close Price Open Price High Price Low Price  \\\nYear Month                                                               \n2019 10    0   2019-10-24      1780.78   1,770.78   1,787.97  1,760.78   \n           1   2019-10-23      1762.17   1,761.30   1,770.05  1,742.00   \n           2   2019-10-22      1765.73   1,788.15   1,789.78  1,762.00   \n           3   2019-10-21      1785.66   1,769.66   1,785.88  1,765.00   \n           4   2019-10-18      1757.51   1,787.80   1,793.98  1,749.20   \n...                   ...          ...        ...        ...       ...   \n2017 10    498 2017-10-31      1105.28   1,109.00   1,110.54  1,101.12   \n           499 2017-10-30      1110.85   1,095.01   1,122.79  1,093.56   \n           500 2017-10-27      1100.95   1,058.14   1,105.58  1,050.55   \n           501 2017-10-26       972.43     980.33     982.90    968.55   \n           502 2017-10-25       972.91     978.00     984.44    966.24   \n\n                Total Traded Quantity  Month  Year         vwap  \\\nYear Month                                                        \n2019 10    0                5200000.0     10  2019  1780.780000   \n           1                2190000.0     10  2019  1775.264993   \n           2                2230000.0     10  2019  1773.054699   \n           3                2220000.0     10  2019  1775.418193   \n           4                3370000.0     10  2019  1771.450368   \n...                               ...    ...   ...          ...   \n2017 10    498              3480000.0     10  2017  1105.280000   \n           499              6610000.0     10  2017  1108.928930   \n           500             16570000.0     10  2017  1103.969782   \n           501              5620000.0     10  2017  1081.068494   \n           502              3030000.0     10  2017  1071.787264   \n\n                Day_Perc_Change                Trend  \nYear Month                                            \n2019 10    0           0.000000  Slight or No change  \n           1          -1.045048             Negative  \n           2           0.202024  Slight or No change  \n           3           1.128712             Positive  \n           4          -1.576448             Negative  \n...                         ...                  ...  \n2017 10    498         0.144970  Slight or No change  \n           499         0.503945      Slight positive  \n           500        -0.891209      Slight negative  \n           501       -11.673555            Bear drop  \n           502         0.049361  Slight or No change  \n\n[503 rows x 11 columns]",
      "text/html": "<div>\n<style scoped>\n    .dataframe tbody tr th:only-of-type {\n        vertical-align: middle;\n    }\n\n    .dataframe tbody tr th {\n        vertical-align: top;\n    }\n\n    .dataframe thead th {\n        text-align: right;\n    }\n</style>\n<table border=\"1\" class=\"dataframe\">\n  <thead>\n    <tr style=\"text-align: right;\">\n      <th></th>\n      <th></th>\n      <th></th>\n      <th>Date</th>\n      <th>Close Price</th>\n      <th>Open Price</th>\n      <th>High Price</th>\n      <th>Low Price</th>\n      <th>Total Traded Quantity</th>\n      <th>Month</th>\n      <th>Year</th>\n      <th>vwap</th>\n      <th>Day_Perc_Change</th>\n      <th>Trend</th>\n    </tr>\n    <tr>\n      <th>Year</th>\n      <th>Month</th>\n      <th></th>\n      <th></th>\n      <th></th>\n      <th></th>\n      <th></th>\n      <th></th>\n      <th></th>\n      <th></th>\n      <th></th>\n      <th></th>\n      <th></th>\n      <th></th>\n    </tr>\n  </thead>\n  <tbody>\n    <tr>\n      <th rowspan=\"5\" valign=\"top\">2019</th>\n      <th rowspan=\"5\" valign=\"top\">10</th>\n      <th>0</th>\n      <td>2019-10-24</td>\n      <td>1780.78</td>\n      <td>1,770.78</td>\n      <td>1,787.97</td>\n      <td>1,760.78</td>\n      <td>5200000.0</td>\n      <td>10</td>\n      <td>2019</td>\n      <td>1780.780000</td>\n      <td>0.000000</td>\n      <td>Slight or No change</td>\n    </tr>\n    <tr>\n      <th>1</th>\n      <td>2019-10-23</td>\n      <td>1762.17</td>\n      <td>1,761.30</td>\n      <td>1,770.05</td>\n      <td>1,742.00</td>\n      <td>2190000.0</td>\n      <td>10</td>\n      <td>2019</td>\n      <td>1775.264993</td>\n      <td>-1.045048</td>\n      <td>Negative</td>\n    </tr>\n    <tr>\n      <th>2</th>\n      <td>2019-10-22</td>\n      <td>1765.73</td>\n      <td>1,788.15</td>\n      <td>1,789.78</td>\n      <td>1,762.00</td>\n      <td>2230000.0</td>\n      <td>10</td>\n      <td>2019</td>\n      <td>1773.054699</td>\n      <td>0.202024</td>\n      <td>Slight or No change</td>\n    </tr>\n    <tr>\n      <th>3</th>\n      <td>2019-10-21</td>\n      <td>1785.66</td>\n      <td>1,769.66</td>\n      <td>1,785.88</td>\n      <td>1,765.00</td>\n      <td>2220000.0</td>\n      <td>10</td>\n      <td>2019</td>\n      <td>1775.418193</td>\n      <td>1.128712</td>\n      <td>Positive</td>\n    </tr>\n    <tr>\n      <th>4</th>\n      <td>2019-10-18</td>\n      <td>1757.51</td>\n      <td>1,787.80</td>\n      <td>1,793.98</td>\n      <td>1,749.20</td>\n      <td>3370000.0</td>\n      <td>10</td>\n      <td>2019</td>\n      <td>1771.450368</td>\n      <td>-1.576448</td>\n      <td>Negative</td>\n    </tr>\n    <tr>\n      <th>...</th>\n      <th>...</th>\n      <th>...</th>\n      <td>...</td>\n      <td>...</td>\n      <td>...</td>\n      <td>...</td>\n      <td>...</td>\n      <td>...</td>\n      <td>...</td>\n      <td>...</td>\n      <td>...</td>\n      <td>...</td>\n      <td>...</td>\n    </tr>\n    <tr>\n      <th rowspan=\"5\" valign=\"top\">2017</th>\n      <th rowspan=\"5\" valign=\"top\">10</th>\n      <th>498</th>\n      <td>2017-10-31</td>\n      <td>1105.28</td>\n      <td>1,109.00</td>\n      <td>1,110.54</td>\n      <td>1,101.12</td>\n      <td>3480000.0</td>\n      <td>10</td>\n      <td>2017</td>\n      <td>1105.280000</td>\n      <td>0.144970</td>\n      <td>Slight or No change</td>\n    </tr>\n    <tr>\n      <th>499</th>\n      <td>2017-10-30</td>\n      <td>1110.85</td>\n      <td>1,095.01</td>\n      <td>1,122.79</td>\n      <td>1,093.56</td>\n      <td>6610000.0</td>\n      <td>10</td>\n      <td>2017</td>\n      <td>1108.928930</td>\n      <td>0.503945</td>\n      <td>Slight positive</td>\n    </tr>\n    <tr>\n      <th>500</th>\n      <td>2017-10-27</td>\n      <td>1100.95</td>\n      <td>1,058.14</td>\n      <td>1,105.58</td>\n      <td>1,050.55</td>\n      <td>16570000.0</td>\n      <td>10</td>\n      <td>2017</td>\n      <td>1103.969782</td>\n      <td>-0.891209</td>\n      <td>Slight negative</td>\n    </tr>\n    <tr>\n      <th>501</th>\n      <td>2017-10-26</td>\n      <td>972.43</td>\n      <td>980.33</td>\n      <td>982.90</td>\n      <td>968.55</td>\n      <td>5620000.0</td>\n      <td>10</td>\n      <td>2017</td>\n      <td>1081.068494</td>\n      <td>-11.673555</td>\n      <td>Bear drop</td>\n    </tr>\n    <tr>\n      <th>502</th>\n      <td>2017-10-25</td>\n      <td>972.91</td>\n      <td>978.00</td>\n      <td>984.44</td>\n      <td>966.24</td>\n      <td>3030000.0</td>\n      <td>10</td>\n      <td>2017</td>\n      <td>1071.787264</td>\n      <td>0.049361</td>\n      <td>Slight or No change</td>\n    </tr>\n  </tbody>\n</table>\n<p>503 rows × 11 columns</p>\n</div>"
     },
     "metadata": {},
     "execution_count": 8
    }
   ],
   "source": [
    "def trend_label(amazon):\n",
    "    if amazon['Day_Perc_Change'] <= 0.5 and amazon['Day_Perc_Change'] > -0.5:\n",
    "        return 'Slight or No change'\n",
    "    if amazon['Day_Perc_Change'] <= 1 and amazon['Day_Perc_Change'] > 0.5:\n",
    "        return 'Slight positive'\n",
    "    if amazon['Day_Perc_Change'] <= -0.5 and amazon['Day_Perc_Change'] > -1:\n",
    "        return 'Slight negative'\n",
    "    if amazon['Day_Perc_Change'] <= 3 and amazon['Day_Perc_Change'] > 1:\n",
    "        return 'Positive'\n",
    "    if amazon['Day_Perc_Change'] <= -1 and amazon['Day_Perc_Change'] > -3:\n",
    "        return 'Negative'\n",
    "    if amazon['Day_Perc_Change'] <= 7 and amazon['Day_Perc_Change'] > 3:\n",
    "        return 'Among top gainers'\n",
    "    if amazon['Day_Perc_Change'] <= -3 and amazon['Day_Perc_Change'] > -7:\n",
    "        return 'Among top losers'\n",
    "    if amazon['Day_Perc_Change'] > 7:\n",
    "        return 'Bull run'\n",
    "    if amazon['Day_Perc_Change'] < -7:\n",
    "        return 'Bear drop'\n",
    "    return 'Other'\n",
    "        \n",
    "amazon['Trend'] = amazon.apply(lambda amazon: trend_label(amazon), axis=1)\n",
    "amazon"
   ]
  },
  {
   "cell_type": "markdown",
   "metadata": {},
   "source": [
    "#### 1.8"
   ]
  },
  {
   "cell_type": "code",
   "execution_count": 9,
   "metadata": {},
   "outputs": [
    {
     "output_type": "stream",
     "name": "stdout",
     "text": "Mean of Total Traded Quantity = Trend\nAmong top gainers      6.445161e+06\nAmong top losers       7.190000e+06\nBear drop              6.420000e+06\nBull run               1.029000e+07\nNegative               4.891727e+06\nPositive               5.060746e+06\nSlight negative        4.368082e+06\nSlight or No change    4.188966e+06\nSlight positive        4.620192e+06\nName: Total Traded Quantity, dtype: float64\nMedian of Total Traded Quantity = Trend\nAmong top gainers       6020000.0\nAmong top losers        6515000.0\nBear drop               6420000.0\nBull run               10290000.0\nNegative                4385000.0\nPositive                4520000.0\nSlight negative         3810000.0\nSlight or No change     3680000.0\nSlight positive         4265000.0\nName: Total Traded Quantity, dtype: float64\n"
    }
   ],
   "source": [
    "mean_ttq = amazon.groupby(['Trend'])['Total Traded Quantity'].mean()\n",
    "median_ttq = amazon.groupby(['Trend'])['Total Traded Quantity'].median()\n",
    "print(\"Mean of Total Traded Quantity = {}\".format(mean_ttq))\n",
    "print(\"Median of Total Traded Quantity = {}\".format(median_ttq))"
   ]
  },
  {
   "cell_type": "markdown",
   "metadata": {},
   "source": [
    "#### 1.9"
   ]
  },
  {
   "cell_type": "code",
   "execution_count": 92,
   "metadata": {},
   "outputs": [],
   "source": [
    "amazon.to_csv('week2.csv')"
   ]
  },
  {
   "cell_type": "code",
   "execution_count": null,
   "metadata": {},
   "outputs": [],
   "source": []
  }
 ],
 "metadata": {
  "kernelspec": {
   "display_name": "Python 3",
   "language": "python",
   "name": "python3"
  },
  "language_info": {
   "codemirror_mode": {
    "name": "ipython",
    "version": 3
   },
   "file_extension": ".py",
   "mimetype": "text/x-python",
   "name": "python",
   "nbconvert_exporter": "python",
   "pygments_lexer": "ipython3",
   "version": "3.7.7-final"
  }
 },
 "nbformat": 4,
 "nbformat_minor": 4
}